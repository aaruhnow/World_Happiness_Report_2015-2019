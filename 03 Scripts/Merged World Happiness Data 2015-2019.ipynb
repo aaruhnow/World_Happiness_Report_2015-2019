{
 "cells": [
  {
   "cell_type": "markdown",
   "id": "01da2a41",
   "metadata": {},
   "source": [
    "#  Merged World Happiness Data"
   ]
  },
  {
   "cell_type": "code",
   "execution_count": 1,
   "id": "defcab71",
   "metadata": {},
   "outputs": [],
   "source": [
    "# Import Libraries and Data\n",
    "import pandas as pd\n",
    "import numpy as np\n",
    "import seaborn as sns\n",
    "import matplotlib.pyplot as plt\n",
    "import matplotlib\n",
    "import os"
   ]
  },
  {
   "cell_type": "code",
   "execution_count": 2,
   "id": "41de0be3",
   "metadata": {},
   "outputs": [],
   "source": [
    "# Create Path\n",
    "path = r'/Users/andrewruhnow/Documents/World Happiness Report 2015-2019'"
   ]
  },
  {
   "cell_type": "code",
   "execution_count": 3,
   "id": "8900e59d",
   "metadata": {},
   "outputs": [
    {
     "data": {
      "text/plain": [
       "'/Users/andrewruhnow/Documents/World Happiness Report 2015-2019'"
      ]
     },
     "execution_count": 3,
     "metadata": {},
     "output_type": "execute_result"
    }
   ],
   "source": [
    "path"
   ]
  },
  {
   "cell_type": "code",
   "execution_count": 4,
   "id": "517736d1",
   "metadata": {},
   "outputs": [],
   "source": [
    "# Import Cleaned Data Sets\n",
    "df_2015 = pd.read_pickle(os.path.join(path, '02 Data', 'Prepared Data', '2015_cleaned.pkl'))"
   ]
  },
  {
   "cell_type": "code",
   "execution_count": 5,
   "id": "08bbbdee",
   "metadata": {},
   "outputs": [
    {
     "data": {
      "text/plain": [
       "(158, 9)"
      ]
     },
     "execution_count": 5,
     "metadata": {},
     "output_type": "execute_result"
    }
   ],
   "source": [
    "df_2015.shape"
   ]
  },
  {
   "cell_type": "code",
   "execution_count": 6,
   "id": "88bf4661",
   "metadata": {},
   "outputs": [],
   "source": [
    "df_2016 = pd.read_pickle(os.path.join(path, '02 Data', 'Prepared Data', '2016_cleaned.pkl'))"
   ]
  },
  {
   "cell_type": "code",
   "execution_count": 7,
   "id": "37003c7b",
   "metadata": {},
   "outputs": [
    {
     "data": {
      "text/plain": [
       "(157, 9)"
      ]
     },
     "execution_count": 7,
     "metadata": {},
     "output_type": "execute_result"
    }
   ],
   "source": [
    "df_2016.shape"
   ]
  },
  {
   "cell_type": "code",
   "execution_count": 8,
   "id": "5df52b81",
   "metadata": {},
   "outputs": [],
   "source": [
    "df_2017 = pd.read_pickle(os.path.join(path, '02 Data', 'Prepared Data', '2017_cleaned.pkl'))"
   ]
  },
  {
   "cell_type": "code",
   "execution_count": 9,
   "id": "8bc8b5ad",
   "metadata": {},
   "outputs": [
    {
     "data": {
      "text/plain": [
       "(155, 9)"
      ]
     },
     "execution_count": 9,
     "metadata": {},
     "output_type": "execute_result"
    }
   ],
   "source": [
    "df_2017.shape"
   ]
  },
  {
   "cell_type": "code",
   "execution_count": 10,
   "id": "b819dddb",
   "metadata": {},
   "outputs": [],
   "source": [
    "df_2018 = pd.read_pickle(os.path.join(path, '02 Data', 'Prepared Data', '2018_cleaned.pkl'))"
   ]
  },
  {
   "cell_type": "code",
   "execution_count": 11,
   "id": "216adade",
   "metadata": {},
   "outputs": [
    {
     "data": {
      "text/plain": [
       "(156, 9)"
      ]
     },
     "execution_count": 11,
     "metadata": {},
     "output_type": "execute_result"
    }
   ],
   "source": [
    "df_2018.shape"
   ]
  },
  {
   "cell_type": "code",
   "execution_count": 12,
   "id": "14cf8a07",
   "metadata": {},
   "outputs": [],
   "source": [
    "df_2019 = pd.read_pickle(os.path.join(path, '02 Data', 'Prepared Data', '2019_cleaned.pkl'))"
   ]
  },
  {
   "cell_type": "code",
   "execution_count": 13,
   "id": "0a552cfe",
   "metadata": {},
   "outputs": [
    {
     "data": {
      "text/plain": [
       "(156, 9)"
      ]
     },
     "execution_count": 13,
     "metadata": {},
     "output_type": "execute_result"
    }
   ],
   "source": [
    "df_2019.shape"
   ]
  },
  {
   "cell_type": "markdown",
   "id": "1791006d",
   "metadata": {},
   "source": [
    "#  2.  Concatenate all five (2015-2019) Data Sets"
   ]
  },
  {
   "cell_type": "code",
   "execution_count": 14,
   "id": "fa8c1d50",
   "metadata": {},
   "outputs": [],
   "source": [
    "# Add a Year column to each data set\n",
    "df_2015['Year'] = 2015"
   ]
  },
  {
   "cell_type": "code",
   "execution_count": 15,
   "id": "ae36bc6f",
   "metadata": {},
   "outputs": [
    {
     "data": {
      "text/html": [
       "<div>\n",
       "<style scoped>\n",
       "    .dataframe tbody tr th:only-of-type {\n",
       "        vertical-align: middle;\n",
       "    }\n",
       "\n",
       "    .dataframe tbody tr th {\n",
       "        vertical-align: top;\n",
       "    }\n",
       "\n",
       "    .dataframe thead th {\n",
       "        text-align: right;\n",
       "    }\n",
       "</style>\n",
       "<table border=\"1\" class=\"dataframe\">\n",
       "  <thead>\n",
       "    <tr style=\"text-align: right;\">\n",
       "      <th></th>\n",
       "      <th>Country</th>\n",
       "      <th>Happiness Rank</th>\n",
       "      <th>Happiness Score</th>\n",
       "      <th>Economy (GDP per Capita)</th>\n",
       "      <th>Family</th>\n",
       "      <th>Health (Life Expectancy)</th>\n",
       "      <th>Freedom</th>\n",
       "      <th>Trust (Government Corruption)</th>\n",
       "      <th>Generosity</th>\n",
       "      <th>Year</th>\n",
       "    </tr>\n",
       "  </thead>\n",
       "  <tbody>\n",
       "    <tr>\n",
       "      <th>0</th>\n",
       "      <td>Switzerland</td>\n",
       "      <td>1</td>\n",
       "      <td>7.587</td>\n",
       "      <td>1.39651</td>\n",
       "      <td>1.34951</td>\n",
       "      <td>0.94143</td>\n",
       "      <td>0.66557</td>\n",
       "      <td>0.41978</td>\n",
       "      <td>0.29678</td>\n",
       "      <td>2015</td>\n",
       "    </tr>\n",
       "    <tr>\n",
       "      <th>1</th>\n",
       "      <td>Iceland</td>\n",
       "      <td>2</td>\n",
       "      <td>7.561</td>\n",
       "      <td>1.30232</td>\n",
       "      <td>1.40223</td>\n",
       "      <td>0.94784</td>\n",
       "      <td>0.62877</td>\n",
       "      <td>0.14145</td>\n",
       "      <td>0.43630</td>\n",
       "      <td>2015</td>\n",
       "    </tr>\n",
       "    <tr>\n",
       "      <th>2</th>\n",
       "      <td>Denmark</td>\n",
       "      <td>3</td>\n",
       "      <td>7.527</td>\n",
       "      <td>1.32548</td>\n",
       "      <td>1.36058</td>\n",
       "      <td>0.87464</td>\n",
       "      <td>0.64938</td>\n",
       "      <td>0.48357</td>\n",
       "      <td>0.34139</td>\n",
       "      <td>2015</td>\n",
       "    </tr>\n",
       "    <tr>\n",
       "      <th>3</th>\n",
       "      <td>Norway</td>\n",
       "      <td>4</td>\n",
       "      <td>7.522</td>\n",
       "      <td>1.45900</td>\n",
       "      <td>1.33095</td>\n",
       "      <td>0.88521</td>\n",
       "      <td>0.66973</td>\n",
       "      <td>0.36503</td>\n",
       "      <td>0.34699</td>\n",
       "      <td>2015</td>\n",
       "    </tr>\n",
       "    <tr>\n",
       "      <th>4</th>\n",
       "      <td>Canada</td>\n",
       "      <td>5</td>\n",
       "      <td>7.427</td>\n",
       "      <td>1.32629</td>\n",
       "      <td>1.32261</td>\n",
       "      <td>0.90563</td>\n",
       "      <td>0.63297</td>\n",
       "      <td>0.32957</td>\n",
       "      <td>0.45811</td>\n",
       "      <td>2015</td>\n",
       "    </tr>\n",
       "  </tbody>\n",
       "</table>\n",
       "</div>"
      ],
      "text/plain": [
       "       Country  Happiness Rank  Happiness Score  Economy (GDP per Capita)  \\\n",
       "0  Switzerland               1            7.587                   1.39651   \n",
       "1      Iceland               2            7.561                   1.30232   \n",
       "2      Denmark               3            7.527                   1.32548   \n",
       "3       Norway               4            7.522                   1.45900   \n",
       "4       Canada               5            7.427                   1.32629   \n",
       "\n",
       "    Family  Health (Life Expectancy)  Freedom  Trust (Government Corruption)  \\\n",
       "0  1.34951                   0.94143  0.66557                        0.41978   \n",
       "1  1.40223                   0.94784  0.62877                        0.14145   \n",
       "2  1.36058                   0.87464  0.64938                        0.48357   \n",
       "3  1.33095                   0.88521  0.66973                        0.36503   \n",
       "4  1.32261                   0.90563  0.63297                        0.32957   \n",
       "\n",
       "   Generosity  Year  \n",
       "0     0.29678  2015  \n",
       "1     0.43630  2015  \n",
       "2     0.34139  2015  \n",
       "3     0.34699  2015  \n",
       "4     0.45811  2015  "
      ]
     },
     "execution_count": 15,
     "metadata": {},
     "output_type": "execute_result"
    }
   ],
   "source": [
    "df_2015.head(5)"
   ]
  },
  {
   "cell_type": "code",
   "execution_count": 16,
   "id": "b0eb1cf8",
   "metadata": {},
   "outputs": [],
   "source": [
    "df_2016['Year'] = 2016"
   ]
  },
  {
   "cell_type": "code",
   "execution_count": 17,
   "id": "c7e132d1",
   "metadata": {},
   "outputs": [
    {
     "data": {
      "text/html": [
       "<div>\n",
       "<style scoped>\n",
       "    .dataframe tbody tr th:only-of-type {\n",
       "        vertical-align: middle;\n",
       "    }\n",
       "\n",
       "    .dataframe tbody tr th {\n",
       "        vertical-align: top;\n",
       "    }\n",
       "\n",
       "    .dataframe thead th {\n",
       "        text-align: right;\n",
       "    }\n",
       "</style>\n",
       "<table border=\"1\" class=\"dataframe\">\n",
       "  <thead>\n",
       "    <tr style=\"text-align: right;\">\n",
       "      <th></th>\n",
       "      <th>Country</th>\n",
       "      <th>Happiness Rank</th>\n",
       "      <th>Happiness Score</th>\n",
       "      <th>Economy (GDP per Capita)</th>\n",
       "      <th>Family</th>\n",
       "      <th>Health (Life Expectancy)</th>\n",
       "      <th>Freedom</th>\n",
       "      <th>Trust (Government Corruption)</th>\n",
       "      <th>Generosity</th>\n",
       "      <th>Year</th>\n",
       "    </tr>\n",
       "  </thead>\n",
       "  <tbody>\n",
       "    <tr>\n",
       "      <th>0</th>\n",
       "      <td>Denmark</td>\n",
       "      <td>1</td>\n",
       "      <td>7.526</td>\n",
       "      <td>1.44178</td>\n",
       "      <td>1.16374</td>\n",
       "      <td>0.79504</td>\n",
       "      <td>0.57941</td>\n",
       "      <td>0.44453</td>\n",
       "      <td>0.36171</td>\n",
       "      <td>2016</td>\n",
       "    </tr>\n",
       "    <tr>\n",
       "      <th>1</th>\n",
       "      <td>Switzerland</td>\n",
       "      <td>2</td>\n",
       "      <td>7.509</td>\n",
       "      <td>1.52733</td>\n",
       "      <td>1.14524</td>\n",
       "      <td>0.86303</td>\n",
       "      <td>0.58557</td>\n",
       "      <td>0.41203</td>\n",
       "      <td>0.28083</td>\n",
       "      <td>2016</td>\n",
       "    </tr>\n",
       "    <tr>\n",
       "      <th>2</th>\n",
       "      <td>Iceland</td>\n",
       "      <td>3</td>\n",
       "      <td>7.501</td>\n",
       "      <td>1.42666</td>\n",
       "      <td>1.18326</td>\n",
       "      <td>0.86733</td>\n",
       "      <td>0.56624</td>\n",
       "      <td>0.14975</td>\n",
       "      <td>0.47678</td>\n",
       "      <td>2016</td>\n",
       "    </tr>\n",
       "    <tr>\n",
       "      <th>3</th>\n",
       "      <td>Norway</td>\n",
       "      <td>4</td>\n",
       "      <td>7.498</td>\n",
       "      <td>1.57744</td>\n",
       "      <td>1.12690</td>\n",
       "      <td>0.79579</td>\n",
       "      <td>0.59609</td>\n",
       "      <td>0.35776</td>\n",
       "      <td>0.37895</td>\n",
       "      <td>2016</td>\n",
       "    </tr>\n",
       "    <tr>\n",
       "      <th>4</th>\n",
       "      <td>Finland</td>\n",
       "      <td>5</td>\n",
       "      <td>7.413</td>\n",
       "      <td>1.40598</td>\n",
       "      <td>1.13464</td>\n",
       "      <td>0.81091</td>\n",
       "      <td>0.57104</td>\n",
       "      <td>0.41004</td>\n",
       "      <td>0.25492</td>\n",
       "      <td>2016</td>\n",
       "    </tr>\n",
       "  </tbody>\n",
       "</table>\n",
       "</div>"
      ],
      "text/plain": [
       "       Country  Happiness Rank  Happiness Score  Economy (GDP per Capita)  \\\n",
       "0      Denmark               1            7.526                   1.44178   \n",
       "1  Switzerland               2            7.509                   1.52733   \n",
       "2      Iceland               3            7.501                   1.42666   \n",
       "3       Norway               4            7.498                   1.57744   \n",
       "4      Finland               5            7.413                   1.40598   \n",
       "\n",
       "    Family  Health (Life Expectancy)  Freedom  Trust (Government Corruption)  \\\n",
       "0  1.16374                   0.79504  0.57941                        0.44453   \n",
       "1  1.14524                   0.86303  0.58557                        0.41203   \n",
       "2  1.18326                   0.86733  0.56624                        0.14975   \n",
       "3  1.12690                   0.79579  0.59609                        0.35776   \n",
       "4  1.13464                   0.81091  0.57104                        0.41004   \n",
       "\n",
       "   Generosity  Year  \n",
       "0     0.36171  2016  \n",
       "1     0.28083  2016  \n",
       "2     0.47678  2016  \n",
       "3     0.37895  2016  \n",
       "4     0.25492  2016  "
      ]
     },
     "execution_count": 17,
     "metadata": {},
     "output_type": "execute_result"
    }
   ],
   "source": [
    "df_2016.head(5)"
   ]
  },
  {
   "cell_type": "code",
   "execution_count": 18,
   "id": "6ea5ec9f",
   "metadata": {},
   "outputs": [],
   "source": [
    "df_2017['Year'] = 2017"
   ]
  },
  {
   "cell_type": "code",
   "execution_count": 19,
   "id": "ea2a2753",
   "metadata": {},
   "outputs": [
    {
     "data": {
      "text/html": [
       "<div>\n",
       "<style scoped>\n",
       "    .dataframe tbody tr th:only-of-type {\n",
       "        vertical-align: middle;\n",
       "    }\n",
       "\n",
       "    .dataframe tbody tr th {\n",
       "        vertical-align: top;\n",
       "    }\n",
       "\n",
       "    .dataframe thead th {\n",
       "        text-align: right;\n",
       "    }\n",
       "</style>\n",
       "<table border=\"1\" class=\"dataframe\">\n",
       "  <thead>\n",
       "    <tr style=\"text-align: right;\">\n",
       "      <th></th>\n",
       "      <th>Country</th>\n",
       "      <th>Happiness Rank</th>\n",
       "      <th>Happiness Score</th>\n",
       "      <th>Economy (GDP per Capita)</th>\n",
       "      <th>Family</th>\n",
       "      <th>Health (Life Expectancy)</th>\n",
       "      <th>Freedom</th>\n",
       "      <th>Trust (Government Corruption)</th>\n",
       "      <th>Generosity</th>\n",
       "      <th>Year</th>\n",
       "    </tr>\n",
       "  </thead>\n",
       "  <tbody>\n",
       "    <tr>\n",
       "      <th>0</th>\n",
       "      <td>Norway</td>\n",
       "      <td>1</td>\n",
       "      <td>7.537</td>\n",
       "      <td>1.616463</td>\n",
       "      <td>1.533524</td>\n",
       "      <td>0.796667</td>\n",
       "      <td>0.635423</td>\n",
       "      <td>0.315964</td>\n",
       "      <td>0.362012</td>\n",
       "      <td>2017</td>\n",
       "    </tr>\n",
       "    <tr>\n",
       "      <th>1</th>\n",
       "      <td>Denmark</td>\n",
       "      <td>2</td>\n",
       "      <td>7.522</td>\n",
       "      <td>1.482383</td>\n",
       "      <td>1.551122</td>\n",
       "      <td>0.792566</td>\n",
       "      <td>0.626007</td>\n",
       "      <td>0.400770</td>\n",
       "      <td>0.355280</td>\n",
       "      <td>2017</td>\n",
       "    </tr>\n",
       "    <tr>\n",
       "      <th>2</th>\n",
       "      <td>Iceland</td>\n",
       "      <td>3</td>\n",
       "      <td>7.504</td>\n",
       "      <td>1.480633</td>\n",
       "      <td>1.610574</td>\n",
       "      <td>0.833552</td>\n",
       "      <td>0.627163</td>\n",
       "      <td>0.153527</td>\n",
       "      <td>0.475540</td>\n",
       "      <td>2017</td>\n",
       "    </tr>\n",
       "    <tr>\n",
       "      <th>3</th>\n",
       "      <td>Switzerland</td>\n",
       "      <td>4</td>\n",
       "      <td>7.494</td>\n",
       "      <td>1.564980</td>\n",
       "      <td>1.516912</td>\n",
       "      <td>0.858131</td>\n",
       "      <td>0.620071</td>\n",
       "      <td>0.367007</td>\n",
       "      <td>0.290549</td>\n",
       "      <td>2017</td>\n",
       "    </tr>\n",
       "    <tr>\n",
       "      <th>4</th>\n",
       "      <td>Finland</td>\n",
       "      <td>5</td>\n",
       "      <td>7.469</td>\n",
       "      <td>1.443572</td>\n",
       "      <td>1.540247</td>\n",
       "      <td>0.809158</td>\n",
       "      <td>0.617951</td>\n",
       "      <td>0.382612</td>\n",
       "      <td>0.245483</td>\n",
       "      <td>2017</td>\n",
       "    </tr>\n",
       "  </tbody>\n",
       "</table>\n",
       "</div>"
      ],
      "text/plain": [
       "       Country  Happiness Rank  Happiness Score  Economy (GDP per Capita)  \\\n",
       "0       Norway               1            7.537                  1.616463   \n",
       "1      Denmark               2            7.522                  1.482383   \n",
       "2      Iceland               3            7.504                  1.480633   \n",
       "3  Switzerland               4            7.494                  1.564980   \n",
       "4      Finland               5            7.469                  1.443572   \n",
       "\n",
       "     Family  Health (Life Expectancy)   Freedom  \\\n",
       "0  1.533524                  0.796667  0.635423   \n",
       "1  1.551122                  0.792566  0.626007   \n",
       "2  1.610574                  0.833552  0.627163   \n",
       "3  1.516912                  0.858131  0.620071   \n",
       "4  1.540247                  0.809158  0.617951   \n",
       "\n",
       "   Trust (Government Corruption)  Generosity  Year  \n",
       "0                       0.315964    0.362012  2017  \n",
       "1                       0.400770    0.355280  2017  \n",
       "2                       0.153527    0.475540  2017  \n",
       "3                       0.367007    0.290549  2017  \n",
       "4                       0.382612    0.245483  2017  "
      ]
     },
     "execution_count": 19,
     "metadata": {},
     "output_type": "execute_result"
    }
   ],
   "source": [
    "df_2017.head(5)"
   ]
  },
  {
   "cell_type": "code",
   "execution_count": 20,
   "id": "a7e4720f",
   "metadata": {},
   "outputs": [],
   "source": [
    "df_2018['Year'] = 2018"
   ]
  },
  {
   "cell_type": "code",
   "execution_count": 21,
   "id": "44bebe74",
   "metadata": {},
   "outputs": [
    {
     "data": {
      "text/html": [
       "<div>\n",
       "<style scoped>\n",
       "    .dataframe tbody tr th:only-of-type {\n",
       "        vertical-align: middle;\n",
       "    }\n",
       "\n",
       "    .dataframe tbody tr th {\n",
       "        vertical-align: top;\n",
       "    }\n",
       "\n",
       "    .dataframe thead th {\n",
       "        text-align: right;\n",
       "    }\n",
       "</style>\n",
       "<table border=\"1\" class=\"dataframe\">\n",
       "  <thead>\n",
       "    <tr style=\"text-align: right;\">\n",
       "      <th></th>\n",
       "      <th>Country</th>\n",
       "      <th>Happiness Rank</th>\n",
       "      <th>Happiness Score</th>\n",
       "      <th>Economy (GDP per Capita)</th>\n",
       "      <th>Family</th>\n",
       "      <th>Health (Life Expectancy)</th>\n",
       "      <th>Freedom</th>\n",
       "      <th>Trust (Government Corruption)</th>\n",
       "      <th>Generosity</th>\n",
       "      <th>Year</th>\n",
       "    </tr>\n",
       "  </thead>\n",
       "  <tbody>\n",
       "    <tr>\n",
       "      <th>0</th>\n",
       "      <td>Finland</td>\n",
       "      <td>1</td>\n",
       "      <td>7.632</td>\n",
       "      <td>1.305</td>\n",
       "      <td>1.592</td>\n",
       "      <td>0.874</td>\n",
       "      <td>0.681</td>\n",
       "      <td>0.393</td>\n",
       "      <td>0.202</td>\n",
       "      <td>2018</td>\n",
       "    </tr>\n",
       "    <tr>\n",
       "      <th>1</th>\n",
       "      <td>Norway</td>\n",
       "      <td>2</td>\n",
       "      <td>7.594</td>\n",
       "      <td>1.456</td>\n",
       "      <td>1.582</td>\n",
       "      <td>0.861</td>\n",
       "      <td>0.686</td>\n",
       "      <td>0.340</td>\n",
       "      <td>0.286</td>\n",
       "      <td>2018</td>\n",
       "    </tr>\n",
       "    <tr>\n",
       "      <th>2</th>\n",
       "      <td>Denmark</td>\n",
       "      <td>3</td>\n",
       "      <td>7.555</td>\n",
       "      <td>1.351</td>\n",
       "      <td>1.590</td>\n",
       "      <td>0.868</td>\n",
       "      <td>0.683</td>\n",
       "      <td>0.408</td>\n",
       "      <td>0.284</td>\n",
       "      <td>2018</td>\n",
       "    </tr>\n",
       "    <tr>\n",
       "      <th>3</th>\n",
       "      <td>Iceland</td>\n",
       "      <td>4</td>\n",
       "      <td>7.495</td>\n",
       "      <td>1.343</td>\n",
       "      <td>1.644</td>\n",
       "      <td>0.914</td>\n",
       "      <td>0.677</td>\n",
       "      <td>0.138</td>\n",
       "      <td>0.353</td>\n",
       "      <td>2018</td>\n",
       "    </tr>\n",
       "    <tr>\n",
       "      <th>4</th>\n",
       "      <td>Switzerland</td>\n",
       "      <td>5</td>\n",
       "      <td>7.487</td>\n",
       "      <td>1.420</td>\n",
       "      <td>1.549</td>\n",
       "      <td>0.927</td>\n",
       "      <td>0.660</td>\n",
       "      <td>0.357</td>\n",
       "      <td>0.256</td>\n",
       "      <td>2018</td>\n",
       "    </tr>\n",
       "  </tbody>\n",
       "</table>\n",
       "</div>"
      ],
      "text/plain": [
       "       Country  Happiness Rank  Happiness Score  Economy (GDP per Capita)  \\\n",
       "0      Finland               1            7.632                     1.305   \n",
       "1       Norway               2            7.594                     1.456   \n",
       "2      Denmark               3            7.555                     1.351   \n",
       "3      Iceland               4            7.495                     1.343   \n",
       "4  Switzerland               5            7.487                     1.420   \n",
       "\n",
       "   Family  Health (Life Expectancy)  Freedom  Trust (Government Corruption)  \\\n",
       "0   1.592                     0.874    0.681                          0.393   \n",
       "1   1.582                     0.861    0.686                          0.340   \n",
       "2   1.590                     0.868    0.683                          0.408   \n",
       "3   1.644                     0.914    0.677                          0.138   \n",
       "4   1.549                     0.927    0.660                          0.357   \n",
       "\n",
       "   Generosity  Year  \n",
       "0       0.202  2018  \n",
       "1       0.286  2018  \n",
       "2       0.284  2018  \n",
       "3       0.353  2018  \n",
       "4       0.256  2018  "
      ]
     },
     "execution_count": 21,
     "metadata": {},
     "output_type": "execute_result"
    }
   ],
   "source": [
    "df_2018.head(5)"
   ]
  },
  {
   "cell_type": "code",
   "execution_count": 22,
   "id": "917e776a",
   "metadata": {},
   "outputs": [],
   "source": [
    "df_2019['Year'] = 2019"
   ]
  },
  {
   "cell_type": "code",
   "execution_count": 23,
   "id": "492b69da",
   "metadata": {},
   "outputs": [
    {
     "data": {
      "text/html": [
       "<div>\n",
       "<style scoped>\n",
       "    .dataframe tbody tr th:only-of-type {\n",
       "        vertical-align: middle;\n",
       "    }\n",
       "\n",
       "    .dataframe tbody tr th {\n",
       "        vertical-align: top;\n",
       "    }\n",
       "\n",
       "    .dataframe thead th {\n",
       "        text-align: right;\n",
       "    }\n",
       "</style>\n",
       "<table border=\"1\" class=\"dataframe\">\n",
       "  <thead>\n",
       "    <tr style=\"text-align: right;\">\n",
       "      <th></th>\n",
       "      <th>Country</th>\n",
       "      <th>Happiness Rank</th>\n",
       "      <th>Happiness Score</th>\n",
       "      <th>Economy (GDP per Capita)</th>\n",
       "      <th>Family</th>\n",
       "      <th>Health (Life Expectancy)</th>\n",
       "      <th>Freedom</th>\n",
       "      <th>Trust (Government Corruption)</th>\n",
       "      <th>Generosity</th>\n",
       "      <th>Year</th>\n",
       "    </tr>\n",
       "  </thead>\n",
       "  <tbody>\n",
       "    <tr>\n",
       "      <th>0</th>\n",
       "      <td>Finland</td>\n",
       "      <td>1</td>\n",
       "      <td>7.769</td>\n",
       "      <td>1.340</td>\n",
       "      <td>1.587</td>\n",
       "      <td>0.986</td>\n",
       "      <td>0.596</td>\n",
       "      <td>0.393</td>\n",
       "      <td>0.153</td>\n",
       "      <td>2019</td>\n",
       "    </tr>\n",
       "    <tr>\n",
       "      <th>1</th>\n",
       "      <td>Denmark</td>\n",
       "      <td>2</td>\n",
       "      <td>7.600</td>\n",
       "      <td>1.383</td>\n",
       "      <td>1.573</td>\n",
       "      <td>0.996</td>\n",
       "      <td>0.592</td>\n",
       "      <td>0.410</td>\n",
       "      <td>0.252</td>\n",
       "      <td>2019</td>\n",
       "    </tr>\n",
       "    <tr>\n",
       "      <th>2</th>\n",
       "      <td>Norway</td>\n",
       "      <td>3</td>\n",
       "      <td>7.554</td>\n",
       "      <td>1.488</td>\n",
       "      <td>1.582</td>\n",
       "      <td>1.028</td>\n",
       "      <td>0.603</td>\n",
       "      <td>0.341</td>\n",
       "      <td>0.271</td>\n",
       "      <td>2019</td>\n",
       "    </tr>\n",
       "    <tr>\n",
       "      <th>3</th>\n",
       "      <td>Iceland</td>\n",
       "      <td>4</td>\n",
       "      <td>7.494</td>\n",
       "      <td>1.380</td>\n",
       "      <td>1.624</td>\n",
       "      <td>1.026</td>\n",
       "      <td>0.591</td>\n",
       "      <td>0.118</td>\n",
       "      <td>0.354</td>\n",
       "      <td>2019</td>\n",
       "    </tr>\n",
       "    <tr>\n",
       "      <th>4</th>\n",
       "      <td>Netherlands</td>\n",
       "      <td>5</td>\n",
       "      <td>7.488</td>\n",
       "      <td>1.396</td>\n",
       "      <td>1.522</td>\n",
       "      <td>0.999</td>\n",
       "      <td>0.557</td>\n",
       "      <td>0.298</td>\n",
       "      <td>0.322</td>\n",
       "      <td>2019</td>\n",
       "    </tr>\n",
       "  </tbody>\n",
       "</table>\n",
       "</div>"
      ],
      "text/plain": [
       "       Country  Happiness Rank  Happiness Score  Economy (GDP per Capita)  \\\n",
       "0      Finland               1            7.769                     1.340   \n",
       "1      Denmark               2            7.600                     1.383   \n",
       "2       Norway               3            7.554                     1.488   \n",
       "3      Iceland               4            7.494                     1.380   \n",
       "4  Netherlands               5            7.488                     1.396   \n",
       "\n",
       "   Family  Health (Life Expectancy)  Freedom  Trust (Government Corruption)  \\\n",
       "0   1.587                     0.986    0.596                          0.393   \n",
       "1   1.573                     0.996    0.592                          0.410   \n",
       "2   1.582                     1.028    0.603                          0.341   \n",
       "3   1.624                     1.026    0.591                          0.118   \n",
       "4   1.522                     0.999    0.557                          0.298   \n",
       "\n",
       "   Generosity  Year  \n",
       "0       0.153  2019  \n",
       "1       0.252  2019  \n",
       "2       0.271  2019  \n",
       "3       0.354  2019  \n",
       "4       0.322  2019  "
      ]
     },
     "execution_count": 23,
     "metadata": {},
     "output_type": "execute_result"
    }
   ],
   "source": [
    "df_2019.head(5)"
   ]
  },
  {
   "cell_type": "code",
   "execution_count": 24,
   "id": "c17d8e75",
   "metadata": {},
   "outputs": [],
   "source": [
    "merged_df = pd.concat([df_2015, df_2016, df_2017, df_2018, df_2019], axis=0)"
   ]
  },
  {
   "cell_type": "code",
   "execution_count": 25,
   "id": "6127d0fe",
   "metadata": {},
   "outputs": [],
   "source": [
    "merged_df.reset_index(drop=True, inplace=True)"
   ]
  },
  {
   "cell_type": "code",
   "execution_count": 26,
   "id": "bd774a90",
   "metadata": {},
   "outputs": [
    {
     "name": "stdout",
     "output_type": "stream",
     "text": [
      "                      Country  Happiness Rank  Happiness Score  \\\n",
      "0                 Switzerland               1            7.587   \n",
      "1                     Iceland               2            7.561   \n",
      "2                     Denmark               3            7.527   \n",
      "3                      Norway               4            7.522   \n",
      "4                      Canada               5            7.427   \n",
      "..                        ...             ...              ...   \n",
      "777                    Rwanda             152            3.334   \n",
      "778                  Tanzania             153            3.231   \n",
      "779               Afghanistan             154            3.203   \n",
      "780  Central African Republic             155            3.083   \n",
      "781               South Sudan             156            2.853   \n",
      "\n",
      "     Economy (GDP per Capita)   Family  Health (Life Expectancy)  Freedom  \\\n",
      "0                     1.39651  1.34951                   0.94143  0.66557   \n",
      "1                     1.30232  1.40223                   0.94784  0.62877   \n",
      "2                     1.32548  1.36058                   0.87464  0.64938   \n",
      "3                     1.45900  1.33095                   0.88521  0.66973   \n",
      "4                     1.32629  1.32261                   0.90563  0.63297   \n",
      "..                        ...      ...                       ...      ...   \n",
      "777                   0.35900  0.71100                   0.61400  0.55500   \n",
      "778                   0.47600  0.88500                   0.49900  0.41700   \n",
      "779                   0.35000  0.51700                   0.36100  0.00000   \n",
      "780                   0.02600  0.00000                   0.10500  0.22500   \n",
      "781                   0.30600  0.57500                   0.29500  0.01000   \n",
      "\n",
      "     Trust (Government Corruption)  Generosity  Year  \n",
      "0                          0.41978     0.29678  2015  \n",
      "1                          0.14145     0.43630  2015  \n",
      "2                          0.48357     0.34139  2015  \n",
      "3                          0.36503     0.34699  2015  \n",
      "4                          0.32957     0.45811  2015  \n",
      "..                             ...         ...   ...  \n",
      "777                        0.41100     0.21700  2019  \n",
      "778                        0.14700     0.27600  2019  \n",
      "779                        0.02500     0.15800  2019  \n",
      "780                        0.03500     0.23500  2019  \n",
      "781                        0.09100     0.20200  2019  \n",
      "\n",
      "[782 rows x 10 columns]\n"
     ]
    }
   ],
   "source": [
    "print(merged_df)"
   ]
  },
  {
   "cell_type": "code",
   "execution_count": 27,
   "id": "1129ad76",
   "metadata": {},
   "outputs": [],
   "source": [
    "merged_df.to_pickle(os.path.join(path, '02 Data', 'Prepared Data', 'Happiness_merged_all_years.pkl'))"
   ]
  },
  {
   "cell_type": "code",
   "execution_count": 28,
   "id": "ae4fd25e",
   "metadata": {},
   "outputs": [],
   "source": [
    "merged_df.to_csv(os.path.join(path, '02 Data', 'Prepared Data', 'Happiness_cleaned_merged.csv'))"
   ]
  },
  {
   "cell_type": "code",
   "execution_count": null,
   "id": "d45a8426",
   "metadata": {},
   "outputs": [],
   "source": []
  }
 ],
 "metadata": {
  "kernelspec": {
   "display_name": "Python 3 (ipykernel)",
   "language": "python",
   "name": "python3"
  },
  "language_info": {
   "codemirror_mode": {
    "name": "ipython",
    "version": 3
   },
   "file_extension": ".py",
   "mimetype": "text/x-python",
   "name": "python",
   "nbconvert_exporter": "python",
   "pygments_lexer": "ipython3",
   "version": "3.11.5"
  }
 },
 "nbformat": 4,
 "nbformat_minor": 5
}
